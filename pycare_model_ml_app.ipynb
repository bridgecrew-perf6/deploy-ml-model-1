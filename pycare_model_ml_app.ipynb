{
 "cells": [
  {
   "cell_type": "code",
   "execution_count": null,
   "id": "e49b048d",
   "metadata": {},
   "outputs": [],
   "source": [
    "import pandas as pd\n",
    "import numpy as np"
   ]
  },
  {
   "cell_type": "code",
   "execution_count": null,
   "id": "a1483a7e",
   "metadata": {},
   "outputs": [],
   "source": [
    "data_insurance = pd.read_csv(\"path/to-your-data\")\n",
    "data_insurance.shape"
   ]
  },
  {
   "cell_type": "code",
   "execution_count": null,
   "id": "dfe89239",
   "metadata": {},
   "outputs": [],
   "source": [
    "from pycaret.regression import *\n",
    "s1 = setup(data = data_insurance, target = 'charges', session_id=123) "
   ]
  },
  {
   "cell_type": "code",
   "execution_count": null,
   "id": "2322a9a8",
   "metadata": {},
   "outputs": [],
   "source": [
    "best = compare_models()"
   ]
  },
  {
   "cell_type": "code",
   "execution_count": null,
   "id": "7c93c316",
   "metadata": {},
   "outputs": [],
   "source": [
    "best = compare_models(sort=\"RMSE\")"
   ]
  },
  {
   "cell_type": "code",
   "execution_count": null,
   "id": "474a14b4",
   "metadata": {},
   "outputs": [],
   "source": [
    "# Save the best model\n",
    "save_model(best, \"my_second_pipeline\")"
   ]
  }
 ],
 "metadata": {
  "kernelspec": {
   "display_name": "Python 3 (ipykernel)",
   "language": "python",
   "name": "python3"
  },
  "language_info": {
   "codemirror_mode": {
    "name": "ipython",
    "version": 3
   },
   "file_extension": ".py",
   "mimetype": "text/x-python",
   "name": "python",
   "nbconvert_exporter": "python",
   "pygments_lexer": "ipython3",
   "version": "3.8.12"
  }
 },
 "nbformat": 4,
 "nbformat_minor": 5
}
